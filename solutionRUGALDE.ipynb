{
 "cells": [
  {
   "cell_type": "code",
   "execution_count": 2,
   "metadata": {},
   "outputs": [
    {
     "name": "stdout",
     "output_type": "stream",
     "text": [
      "   Unnamed: 0  id_realEstates  isNew                    realEstate_name  \\\n",
      "0           1       153771986  False            ferrari 57 inmobiliaria   \n",
      "1           2       153867863  False  tecnocasa fuenlabrada ferrocarril   \n",
      "2           3       153430440  False                 look find boadilla   \n",
      "3           4       152776331  False  tecnocasa fuenlabrada ferrocarril   \n",
      "4           5       153180188  False            ferrari 57 inmobiliaria   \n",
      "\n",
      "   phone_realEstate                                       url_inmueble  rooms  \\\n",
      "0       912177526.0  https://www.fotocasa.es/es/comprar/vivienda/ma...    3.0   \n",
      "1       916358736.0  https://www.fotocasa.es/es/comprar/vivienda/ma...    3.0   \n",
      "2       916350408.0  https://www.fotocasa.es/es/comprar/vivienda/ma...    2.0   \n",
      "3       916358736.0  https://www.fotocasa.es/es/comprar/vivienda/ma...    3.0   \n",
      "4       912177526.0  https://www.fotocasa.es/es/comprar/vivienda/ma...    2.0   \n",
      "\n",
      "   bathrooms  surface   price  ... level4Id level5Id level6Id level7Id  \\\n",
      "0        2.0    103.0  195000  ...        0        0        0        0   \n",
      "1        1.0      NaN   89000  ...        0        0        0        0   \n",
      "2        2.0     99.0  390000  ...        0        0        0        0   \n",
      "3        1.0     86.0   89000  ...        0        0        0        0   \n",
      "4        2.0    106.0  172000  ...        0        0        0        0   \n",
      "\n",
      "  level8Id accuracy          latitude          longitude zipCode customZone  \n",
      "0        0        0  40,2948276786438  -3,44402412135624     NaN        NaN  \n",
      "1        0        1          40,28674           -3,79351     NaN        NaN  \n",
      "2        0        0  40,4115646786438  -3,90662252135624     NaN        NaN  \n",
      "3        0        0  40,2853785786438  -3,79508142135624     NaN        NaN  \n",
      "4        0        0  40,2998774864376  -3,45226301356237     NaN        NaN  \n",
      "\n",
      "[5 rows x 37 columns]\n"
     ]
    }
   ],
   "source": [
    "import pandas as pd\n",
    "\n",
    "# Define the correct path within the Codespace\n",
    "file_path = './real_estate.csv'  # Adjust if it's in a subfolder\n",
    "\n",
    "# Read the CSV file\n",
    "ds = pd.read_csv(file_path, sep=';', encoding='utf-8', engine='python')\n",
    "\n",
    "# Display the first few rows\n",
    "print(ds.head())\n"
   ]
  },
  {
   "cell_type": "code",
   "execution_count": 3,
   "metadata": {},
   "outputs": [
    {
     "name": "stdout",
     "output_type": "stream",
     "text": [
      "The house with address El Escorial is the most expensive and its price is 8500000 USD.\n"
     ]
    }
   ],
   "source": [
    "# Find the most expensive house\n",
    "most_expensive = ds.loc[ds['price'].idxmax()]  # Assuming 'price' is the column with house prices\n",
    "\n",
    "# Display the details of the most expensive house\n",
    "address = most_expensive['address']  # Assuming 'address' is the column for house addresses\n",
    "price = most_expensive['price']\n",
    "\n",
    "print(f\"The house with address {address} is the most expensive and its price is {price} USD.\")\n",
    "\n"
   ]
  },
  {
   "cell_type": "code",
   "execution_count": 4,
   "metadata": {},
   "outputs": [
    {
     "name": "stdout",
     "output_type": "stream",
     "text": [
      "The house with address Parla is the cheapest and its price is 0 USD.\n"
     ]
    }
   ],
   "source": [
    "#Exercise 02. Which is the cheapest house in the dataset? (★☆☆)\n",
    "#Print the address and the price of the selected house. For example:\n",
    "\n",
    "#The house with address Concrete Street Nº1 is the cheapest and its price is 12000 USD\n",
    "\n",
    "\n",
    "# Find the cheapest house\n",
    "cheapest_house = ds.loc[ds['price'].idxmin()]  # Assuming 'price' is the column with house prices\n",
    "\n",
    "# Extract details of the cheapest house\n",
    "address = cheapest_house['address']  # Assuming 'address' is the column for house addresses\n",
    "price = cheapest_house['price']\n",
    "\n",
    "# Print the result\n",
    "print(f\"The house with address {address} is the cheapest and its price is {price} USD.\")\n"
   ]
  },
  {
   "cell_type": "code",
   "execution_count": 6,
   "metadata": {},
   "outputs": [
    {
     "name": "stdout",
     "output_type": "stream",
     "text": [
      "The biggest house is located on Sevilla la Nueva and its surface is 249000.0 meters.\n",
      "The smallest house is located on Calle Amparo,  Madrid Capital and its surface is 15.0 meters.\n"
     ]
    }
   ],
   "source": [
    "#Exercise 03. Which is the biggest and the smallest house in the dataset? (★☆☆)\n",
    "#Print both the address and the surface of the selected houses. For example:\n",
    "\n",
    "#The biggest house is located on Yukka Street Nº10 and its surface is 5000 meters\n",
    "\n",
    "#The smallest house is located on County Road 1 N and its surface is 200 meters\n",
    "\n",
    "\n",
    "\n",
    "\n",
    "\n",
    "\n",
    "\n",
    "\n",
    "\n",
    "import pandas as pd\n",
    "\n",
    "# Load the dataset\n",
    "file_path = r'./real_estate.csv'\n",
    "ds = pd.read_csv(file_path, sep=';')\n",
    "\n",
    "# Find the biggest house\n",
    "biggest_house = ds.loc[ds['surface'].idxmax()]  # Assuming 'surface' is the column for house surface areas\n",
    "biggest_address = biggest_house['address']  # Assuming 'address' is the column for house addresses\n",
    "biggest_surface = biggest_house['surface']\n",
    "\n",
    "# Find the smallest house\n",
    "smallest_house = ds.loc[ds['surface'].idxmin()]\n",
    "smallest_address = smallest_house['address']\n",
    "smallest_surface = smallest_house['surface']\n",
    "\n",
    "# Print the results\n",
    "print(f\"The biggest house is located on {biggest_address} and its surface is {biggest_surface} meters.\")\n",
    "print(f\"The smallest house is located on {smallest_address} and its surface is {smallest_surface} meters.\")\n",
    "\n"
   ]
  },
  {
   "cell_type": "code",
   "execution_count": 8,
   "metadata": {},
   "outputs": [
    {
     "name": "stdout",
     "output_type": "stream",
     "text": [
      "Populations: Arganda del Rey, Fuenlabrada, Boadilla del Monte, Las Rozas de Madrid,  Madrid Capital, Villaviciosa de Odón, Pinto, Valdemoro, Navalcarnero, Pozuelo de Alarcón, Torrejón de Ardoz, Navalagamella, San Sebastián de los Reyes, Rivas-vaciamadrid, Alpedrete, Móstoles, San Fernando de Henares, Coslada, Becerril de la Sierra, Alcalá de Henares, Chinchón, Parla, Alcorcón, El Escorial, Leganés, Pedrezuela, Majadahonda, Villanueva de la Cañada, Villanueva del Pardillo, Torrelodones, Moralzarzal, Mejorada del Campo, Aranjuez, Corpa, Getafe, Velilla de San Antonio, Sevilla la Nueva, San Martín de la Vega, Villalbilla, Collado Villalba, Alcobendas, El Molar (Madrid), Moraleja de Enmedio, Algete, Campo Real, Torrejón de la Calzada, Colmenar Viejo, Valdemorillo, Fuente El Saz de Jarama, Tres Cantos, Arroyomolinos (Madrid), Griñón, Paracuellos de Jarama, Guadarrama, Titulcia, Galapagar, Collado Mediano, Los Molinos, San Lorenzo de El Escorial, Loeches, San Martín de Valdeiglesias, Navas del Rey, Bustarviejo, Manzanares El Real, Carabaña, Casarrubuelos, Cercedilla, Fresnedillas de la Oliva, Valdemaqueda, Robledo de Chavela, Miraflores de la Sierra, Humanes de Madrid, Valdetorres de Jarama, San Agustín del Guadalix, Ciempozuelos, Camarma de Esteruelas, Torres de la Alameda, Talamanca de Jarama, El Atazar, Hoyo de Manzanares, El Boalo - Cerceda – Mataelpino, El Álamo, Valdilecha, Valdeolmos-Alalpardo, Guadalix de la Sierra, Belmonte de Tajo, El Vellón, Brunete, Redueña, Morata de Tajuña, Tielmes, Gargantilla del Lozoya, Meco, Venturada, Quijorna, Cenicientos, Torrejón de Velasco, Navacerrada, Santa María de la Alameda, Orusco de Tajuña, Daganzo de Arriba, Villamanta, Anchuelo, Valdaracete, Ajalvir, Los Santos de la Humosa, Villamanrique de Tajo, Colmenar de Oreja, Villa del Prado, Fuentidueña de Tajo, Colmenar del Arroyo, Valdelaguna, Cubas de la Sagra, Valdeavero, Aldea del Fresno, Ribatejada, Torrelaguna, Batres, Pezuela de las Torres, Colmenarejo, Serranillos del Valle, Cobeña, Soto del Real, El Berrueco, Villanueva de Perales, Fresno de Torote - Serracines, Pozuelo del Rey, Pelayos de la Presa, La Cabrera, Nuevo Baztán, Perales de Tajuña, Villaconejos, Villarejo de Salvanés, Cadalso de los Vidrios, Santorcaz, Madarcos, Garganta de los Montes, Puentes Viejas, Torremocha de Jarama, Valdemanco, Braojos, Lozoyuela-navas-sieteiglesias, Piñuécar-gandullas, Valdepiélagos, Valverde de Alcalá, Villar del Olmo, Villamantilla, Horcajo de la Sierra, Gascones, Zarzalejo, Villavieja del Lozoya, Brea de Tajo, Estremera, Chapinería, Navarredonda, Patones, Ambite, Navalafuente, Lozoya, Canencia, Cabanillas de la Sierra, Buitrago del Lozoya, Fresno de Torote, Robregordo, Pinilla del Valle, Rascafría, La Hiruela, Montejo de la Sierra\n",
      "Number of populations: 168\n"
     ]
    }
   ],
   "source": [
    "#Exercise 04. How many populations (level5 column) the dataset contains? (★☆☆)\n",
    "#Print the names of the populations with a comma as a separator. For example:\n",
    "\n",
    "#> print(populations)\n",
    "\n",
    "#population1, population2, population3, ...\n",
    "\n",
    "\n",
    "import pandas as pd\n",
    "\n",
    "# Load the dataset\n",
    "file_path = r'./real_estate.csv'\n",
    "ds = pd.read_csv(file_path, sep=';')\n",
    "\n",
    "# Get unique populations from the 'level5' column\n",
    "populations = ds['level5'].unique()  # Assuming 'level5' is the column for populations\n",
    "\n",
    "# Convert the array to a comma-separated string\n",
    "populations_list = ', '.join(populations)\n",
    "\n",
    "# Print the names of the populations\n",
    "print(f\"Populations: {populations_list}\")\n",
    "\n",
    "# Print the total number of unique populations\n",
    "print(f\"Number of populations: {len(populations)}\")"
   ]
  },
  {
   "cell_type": "code",
   "execution_count": 9,
   "metadata": {},
   "outputs": [
    {
     "name": "stdout",
     "output_type": "stream",
     "text": [
      "Contains NAs: True\n",
      "\n",
      "Rows with NAs:\n",
      "       Unnamed: 0  id_realEstates  isNew                    realEstate_name  \\\n",
      "0               1       153771986  False            ferrari 57 inmobiliaria   \n",
      "1               2       153867863  False  tecnocasa fuenlabrada ferrocarril   \n",
      "2               3       153430440  False                 look find boadilla   \n",
      "3               4       152776331  False  tecnocasa fuenlabrada ferrocarril   \n",
      "4               5       153180188  False            ferrari 57 inmobiliaria   \n",
      "...           ...             ...    ...                                ...   \n",
      "15330       15331       153901377  False                infocasa consulting   \n",
      "15331       15332       150394373  False                inmobiliaria pulpon   \n",
      "15332       15333       153901397  False             tecnocasa torrelodones   \n",
      "15333       15334       152607440  False                inmobiliaria pulpon   \n",
      "15334       15335       153901356  False                infocasa consulting   \n",
      "\n",
      "       phone_realEstate                                       url_inmueble  \\\n",
      "0           912177526.0  https://www.fotocasa.es/es/comprar/vivienda/ma...   \n",
      "1           916358736.0  https://www.fotocasa.es/es/comprar/vivienda/ma...   \n",
      "2           916350408.0  https://www.fotocasa.es/es/comprar/vivienda/ma...   \n",
      "3           916358736.0  https://www.fotocasa.es/es/comprar/vivienda/ma...   \n",
      "4           912177526.0  https://www.fotocasa.es/es/comprar/vivienda/ma...   \n",
      "...                 ...                                                ...   \n",
      "15330       911360461.0  https://www.fotocasa.es/es/comprar/vivienda/ma...   \n",
      "15331       912788039.0  https://www.fotocasa.es/es/comprar/vivienda/ma...   \n",
      "15332       912780348.0  https://www.fotocasa.es/es/comprar/vivienda/ma...   \n",
      "15333       912788039.0  https://www.fotocasa.es/es/comprar/vivienda/ma...   \n",
      "15334       911360461.0  https://www.fotocasa.es/es/comprar/vivienda/ma...   \n",
      "\n",
      "       rooms  bathrooms  surface   price  ... level4Id level5Id level6Id  \\\n",
      "0        3.0        2.0    103.0  195000  ...        0        0        0   \n",
      "1        3.0        1.0      NaN   89000  ...        0        0        0   \n",
      "2        2.0        2.0     99.0  390000  ...        0        0        0   \n",
      "3        3.0        1.0     86.0   89000  ...        0        0        0   \n",
      "4        2.0        2.0    106.0  172000  ...        0        0        0   \n",
      "...      ...        ...      ...     ...  ...      ...      ...      ...   \n",
      "15330    2.0        1.0     96.0  259470  ...        0        0        0   \n",
      "15331    3.0        1.0    150.0  165000  ...        0        0        0   \n",
      "15332    4.0        2.0    175.0  495000  ...        0        0        0   \n",
      "15333    3.0        2.0    101.0  195000  ...        0        0        0   \n",
      "15334    3.0        2.0    152.0  765000  ...        0        0        0   \n",
      "\n",
      "      level7Id level8Id accuracy          latitude          longitude zipCode  \\\n",
      "0            0        0        0  40,2948276786438  -3,44402412135624     NaN   \n",
      "1            0        0        1          40,28674           -3,79351     NaN   \n",
      "2            0        0        0  40,4115646786438  -3,90662252135624     NaN   \n",
      "3            0        0        0  40,2853785786438  -3,79508142135624     NaN   \n",
      "4            0        0        0  40,2998774864376  -3,45226301356237     NaN   \n",
      "...        ...      ...      ...               ...                ...     ...   \n",
      "15330        0        0        0          40,45416           -3,70286     NaN   \n",
      "15331        0        0        0          40,36652           -3,48951     NaN   \n",
      "15332        0        0        0          40,57444           -3,92124     NaN   \n",
      "15333        0        0        0          40,36967           -3,48105     NaN   \n",
      "15334        0        0        0          40,45773           -3,69068     NaN   \n",
      "\n",
      "      customZone  \n",
      "0            NaN  \n",
      "1            NaN  \n",
      "2            NaN  \n",
      "3            NaN  \n",
      "4            NaN  \n",
      "...          ...  \n",
      "15330        NaN  \n",
      "15331        NaN  \n",
      "15332        NaN  \n",
      "15333        NaN  \n",
      "15334        NaN  \n",
      "\n",
      "[15335 rows x 37 columns]\n",
      "\n",
      "Columns with NAs:\n",
      "['realEstate_name', 'phone_realEstate', 'rooms', 'bathrooms', 'surface', 'description', 'level4', 'level6', 'level7', 'level8', 'zipCode', 'customZone']\n"
     ]
    }
   ],
   "source": [
    "#Exercise 05. Does the dataset contain NAs? (★☆☆)\n",
    "#Print a boolean value (True or False) followed by the rows/cols that contains NAs.\n",
    "\n",
    "import pandas as pd\n",
    "\n",
    "# Load the dataset\n",
    "file_path = r'./real_estate.csv'\n",
    "ds = pd.read_csv(file_path, sep=';')\n",
    "\n",
    "# Check if the dataset contains any NAs\n",
    "contains_nas = ds.isnull().values.any()\n",
    "\n",
    "# Print whether the dataset contains NAs\n",
    "print(f\"Contains NAs: {contains_nas}\")\n",
    "\n",
    "if contains_nas:\n",
    "    # Print rows with NAs\n",
    "    rows_with_nas = ds[ds.isnull().any(axis=1)]\n",
    "    print(\"\\nRows with NAs:\")\n",
    "    print(rows_with_nas)\n",
    "    \n",
    "    # Print columns with NAs\n",
    "    cols_with_nas = ds.columns[ds.isnull().any()].tolist()\n",
    "    print(\"\\nColumns with NAs:\")\n",
    "    print(cols_with_nas)\n",
    "else:\n",
    "    print(\"The dataset does not contain any NAs.\")\n"
   ]
  },
  {
   "cell_type": "code",
   "execution_count": 11,
   "metadata": {},
   "outputs": [
    {
     "name": "stdout",
     "output_type": "stream",
     "text": [
      "Original DataFrame dimensions: (15335, 37)\n",
      "DataFrame dimensions after removing NAs: (0, 37)\n",
      "Number of rows removed: 15335\n"
     ]
    }
   ],
   "source": [
    "#Exercise 06. Delete the NAs of the dataset, if applicable (★★☆)\n",
    "#Print a comparison between the dimensions of the original DataFrame versus the DataFrame after the deletions.\n",
    "\n",
    "import pandas as pd\n",
    "\n",
    "# Load the dataset\n",
    "file_path = r'./real_estate.csv'\n",
    "ds = pd.read_csv(file_path, sep=';')\n",
    "\n",
    "# Store original dimensions\n",
    "original_shape = ds.shape\n",
    "\n",
    "# Remove rows with NAs\n",
    "ds_cleaned = ds.dropna()\n",
    "\n",
    "# Store cleaned dimensions\n",
    "cleaned_shape = ds_cleaned.shape\n",
    "\n",
    "# Print comparison of dimensions\n",
    "print(f\"Original DataFrame dimensions: {original_shape}\")\n",
    "print(f\"DataFrame dimensions after removing NAs: {cleaned_shape}\")\n",
    "\n",
    "# Check how many rows were removed\n",
    "rows_removed = original_shape[0] - cleaned_shape[0]\n",
    "print(f\"Number of rows removed: {rows_removed}\")\n"
   ]
  },
  {
   "cell_type": "code",
   "execution_count": 12,
   "metadata": {},
   "outputs": [
    {
     "name": "stdout",
     "output_type": "stream",
     "text": [
      "The mean price of houses in 'Arroyomolinos (Madrid)' is 294541.60 USD.\n"
     ]
    }
   ],
   "source": [
    "#Exercise 07. Which is the mean of prices in the population (level5 column) of \"Arroyomolinos (Madrid)\"? (★★☆)\n",
    "#Print the obtained value.\n",
    "\n",
    "import pandas as pd\n",
    "\n",
    "# Load the dataset\n",
    "file_path = r'./real_estate.csv'\n",
    "ds = pd.read_csv(file_path, sep=';')\n",
    "\n",
    "# Filter the dataset for the population \"Arroyomolinos (Madrid)\"\n",
    "arroyomolinos_data = ds[ds['level5'] == 'Arroyomolinos (Madrid)']  # Assuming 'level5' is the population column\n",
    "\n",
    "# Calculate the mean price\n",
    "mean_price = arroyomolinos_data['price'].mean()  # Assuming 'price' is the price column\n",
    "\n",
    "# Print the mean price\n",
    "print(f\"The mean price of houses in 'Arroyomolinos (Madrid)' is {mean_price:.2f} USD.\")\n",
    "\n"
   ]
  },
  {
   "cell_type": "code",
   "execution_count": 13,
   "metadata": {},
   "outputs": [
    {
     "data": {
      "image/png": "[encoded data removed]",
      "text/plain": [
       "<Figure size 1000x600 with 1 Axes>"
      ]
     },
     "metadata": {},
     "output_type": "display_data"
    }
   ],
   "source": [
    "#Exercise 08. Plot the histogram of prices for the population (level5 column) of \"Arroyomolinos (Madrid)\" and explain what you observe (★★☆)\n",
    "#Print the histogram of the prices and write in the Markdown cell a brief analysis about the plot.\n",
    "\n",
    "\n",
    "import pandas as pd\n",
    "import matplotlib.pyplot as plt\n",
    "\n",
    "# Load the dataset\n",
    "file_path = r'./real_estate.csv'\n",
    "ds = pd.read_csv(file_path, sep=';')\n",
    "\n",
    "# Filter the dataset for the population \"Arroyomolinos (Madrid)\"\n",
    "arroyomolinos_data = ds[ds['level5'] == 'Arroyomolinos (Madrid)']  # Assuming 'level5' is the population column\n",
    "\n",
    "# Extract prices for the filtered population\n",
    "prices = arroyomolinos_data['price']  # Assuming 'price' is the price column\n",
    "\n",
    "# Plot the histogram\n",
    "plt.figure(figsize=(10, 6))\n",
    "plt.hist(prices, bins=10, color='skyblue', alpha=0.8, edgecolor='black')\n",
    "plt.title(\"Histogram of Prices in 'Arroyomolinos (Madrid)'\", fontsize=16)\n",
    "plt.xlabel(\"Price (USD)\", fontsize=14)\n",
    "plt.ylabel(\"Frequency\", fontsize=14)\n",
    "plt.grid(axis='y', linestyle='--', alpha=0.7)\n",
    "plt.show()"
   ]
  },
  {
   "cell_type": "markdown",
   "metadata": {},
   "source": [
    "Observations and Analysis:\n",
    "Price Distribution:\n",
    "\n",
    "The histogram will show the spread of property prices \n",
    "in \"Arroyomolinos (Madrid).\" For example:\n",
    "If the bars are concentrated around a specific range,\n",
    " it suggests most properties are priced similarly.\n",
    "A wider spread indicates diverse pricing.\n",
    "Peaks:\n",
    "\n",
    "Peaks (tall bars) in the histogram represent price ranges \n",
    "with a high number of properties.\n",
    "A peak at a lower price range might suggest affordability in that area.\n",
    "\n",
    "Outliers:\n",
    "\n",
    "If there are bars far away from the rest of the distribution,\n",
    " it may indicate outliers, such as luxury home"
   ]
  },
  {
   "cell_type": "code",
   "execution_count": 14,
   "metadata": {},
   "outputs": [
    {
     "name": "stdout",
     "output_type": "stream",
     "text": [
      "Average price in Valdemorillo: 363860.29 USD\n",
      "Average price in Galapagar: 360063.20 USD\n",
      "The average prices in Valdemorillo and Galapagar are different.\n"
     ]
    }
   ],
   "source": [
    "#Exercise 09. Are the average prices of \"Valdemorillo\" and \"Galapagar\" the same? (★★☆)\n",
    "#Print both average prices and then write a conclusion about them.\n",
    " \n",
    "import pandas as pd\n",
    "\n",
    "# Load the dataset\n",
    "file_path = r'./real_estate.csv'\n",
    "ds = pd.read_csv(file_path, sep=';')\n",
    "\n",
    "# Filter data for \"Valdemorillo\" and \"Galapagar\"\n",
    "valdemorillo_data = ds[ds['level5'] == 'Valdemorillo']  # Assuming 'level5' is the population column\n",
    "galapagar_data = ds[ds['level5'] == 'Galapagar']\n",
    "\n",
    "# Calculate the average prices\n",
    "valdemorillo_avg_price = valdemorillo_data['price'].mean()  # Assuming 'price' is the price column\n",
    "galapagar_avg_price = galapagar_data['price'].mean()\n",
    "\n",
    "# Print the results\n",
    "print(f\"Average price in Valdemorillo: {valdemorillo_avg_price:.2f} USD\")\n",
    "print(f\"Average price in Galapagar: {galapagar_avg_price:.2f} USD\")\n",
    "\n",
    "# Compare and conclude\n",
    "if valdemorillo_avg_price == galapagar_avg_price:\n",
    "    print(\"The average prices in Valdemorillo and Galapagar are the same.\")\n",
    "else:\n",
    "    print(\"The average prices in Valdemorillo and Galapagar are different.\")"
   ]
  },
  {
   "cell_type": "code",
   "execution_count": 15,
   "metadata": {},
   "outputs": [
    {
     "name": "stdout",
     "output_type": "stream",
     "text": [
      "Average price per square meter in Valdemorillo: 1317.95 USD/m²\n",
      "Average price per square meter in Galapagar: 1606.32 USD/m²\n",
      "The average price per square meter in Valdemorillo and Galapagar is different.\n"
     ]
    }
   ],
   "source": [
    "#Exercise 10. Are the average prices per square meter (price/m2) of \"Valdemorillo\" and \"Galapagar\" the same? (★★☆)\n",
    "#Print both average prices and then write a conclusion about it.\n",
    "\n",
    "#Hint: Create a new column called pps (price per square meter) and \n",
    "#then analyze the values.\n",
    "\n",
    "import pandas as pd\n",
    "\n",
    "# Load the dataset\n",
    "file_path = r'./real_estate.csv'\n",
    "ds = pd.read_csv(file_path, sep=';')\n",
    "\n",
    "# Create a new column for price per square meter (pps)\n",
    "ds['pps'] = ds['price'] / ds['surface']  # Assuming 'price' and 'surface' columns exist\n",
    "\n",
    "# Filter data for \"Valdemorillo\" and \"Galapagar\"\n",
    "valdemorillo_data = ds[ds['level5'] == 'Valdemorillo']  # Assuming 'level5' is the population column\n",
    "galapagar_data = ds[ds['level5'] == 'Galapagar']\n",
    "\n",
    "# Calculate the average price per square meter for both populations\n",
    "valdemorillo_avg_pps = valdemorillo_data['pps'].mean()\n",
    "galapagar_avg_pps = galapagar_data['pps'].mean()\n",
    "\n",
    "# Print the results\n",
    "print(f\"Average price per square meter in Valdemorillo: {valdemorillo_avg_pps:.2f} USD/m²\")\n",
    "print(f\"Average price per square meter in Galapagar: {galapagar_avg_pps:.2f} USD/m²\")\n",
    "\n",
    "# Compare and conclude\n",
    "if valdemorillo_avg_pps == galapagar_avg_pps:\n",
    "    print(\"The average price per square meter in Valdemorillo and Galapagar is the same.\")\n",
    "else:\n",
    "    print(\"The average price per square meter in Valdemorillo and Galapagar is different.\")\n"
   ]
  }
 ],
 "metadata": {
  "kernelspec": {
   "display_name": "Python 3",
   "language": "python",
   "name": "python3"
  },
  "language_info": {
   "codemirror_mode": {
    "name": "ipython",
    "version": 3
   },
   "file_extension": ".py",
   "mimetype": "text/x-python",
   "name": "python",
   "nbconvert_exporter": "python",
   "pygments_lexer": "ipython3",
   "version": "3.11.4"
  }
 },
 "nbformat": 4,
 "nbformat_minor": 2
}
